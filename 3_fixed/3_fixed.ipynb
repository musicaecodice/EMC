{
 "cells": [
  {
   "cell_type": "markdown",
   "id": "8e8a8b13",
   "metadata": {},
   "source": [
    "[INDEX](../indice.ipynb) \n",
    "\n",
    "* [Musical objects](3_fixed/3_fixed.ipynb#object)\n",
    "* [The compositional process: determinism](3_fixed/3_fixed.ipynb#comprocess) lezione 6\n",
    "* [Sound processing techniques in SuperCollider](3_fixed/3_fixed.ipynb#sproc) \n",
    "* [Soundfiles, DAW and VST](3_fixed/3_fixed.ipynb#daw)\n",
    "* [Representations and diffusion systems](3_fixed/3_fixed.ipynb#diffusion)\n",
    "* [Composition sketches proposal <small>(DAW)</small>](3_fixed/3_fixed.ipynb#esercizi_1) esercitazoni 1"
   ]
  },
  {
   "cell_type": "markdown",
   "id": "5cc91be7-65df-4fa0-9fc7-ff4e6c5d2538",
   "metadata": {},
   "source": [
    "## Musical objects <a name=\"object\"></a>"
   ]
  },
  {
   "cell_type": "markdown",
   "id": "6ef03811",
   "metadata": {},
   "source": [
    "## The compositional process: determinism <a name=\"comprocess\"></a>"
   ]
  },
  {
   "cell_type": "markdown",
   "id": "a88a11a6",
   "metadata": {},
   "source": [
    "## Sound processing techniques in SuperCollider <a name=\"sproc\"></a>"
   ]
  },
  {
   "cell_type": "markdown",
   "id": "7255582b",
   "metadata": {},
   "source": [
    "## Soundfiles, DAW and VST <a name=\"daw\"></a>"
   ]
  },
  {
   "cell_type": "markdown",
   "id": "d20ed154",
   "metadata": {},
   "source": [
    "## Representations and diffusion systems <a name=\"diffusion\"></a>"
   ]
  },
  {
   "cell_type": "markdown",
   "id": "9e672a27",
   "metadata": {},
   "source": [
    "## Composition sketches proposal <small>(DAW)</small> <a name=\"esercizi_1\"></a>"
   ]
  }
 ],
 "metadata": {
  "kernelspec": {
   "display_name": "Python 3 (ipykernel)",
   "language": "python",
   "name": "python3"
  },
  "language_info": {
   "codemirror_mode": {
    "name": "ipython",
    "version": 3
   },
   "file_extension": ".py",
   "mimetype": "text/x-python",
   "name": "python",
   "nbconvert_exporter": "python",
   "pygments_lexer": "ipython3",
   "version": "3.12.4"
  }
 },
 "nbformat": 4,
 "nbformat_minor": 5
}
