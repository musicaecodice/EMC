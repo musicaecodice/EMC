{
 "cells": [
  {
   "cell_type": "markdown",
   "id": "e9dde309",
   "metadata": {},
   "source": [
    "[Index](../indice.ipynb) "
   ]
  },
  {
   "cell_type": "markdown",
   "id": "5cc91be7-65df-4fa0-9fc7-ff4e6c5d2538",
   "metadata": {},
   "source": [
    "## Real time scores as algorithms <a name=\"scoral\"></a>"
   ]
  },
  {
   "cell_type": "markdown",
   "id": "a88a11a6",
   "metadata": {},
   "source": [
    "## Music and live processes <a name=\"livepro\"></a>"
   ]
  },
  {
   "cell_type": "markdown",
   "id": "9ab7f5a8",
   "metadata": {},
   "source": [
    "## Pattern, drones and changes <a name=\"pattern\"></a>"
   ]
  },
  {
   "cell_type": "markdown",
   "id": "7255582b",
   "metadata": {},
   "source": [
    "## Time expansion <a name=\"tempo\"></a>"
   ]
  },
  {
   "cell_type": "markdown",
   "id": "6726bbcb",
   "metadata": {},
   "source": [
    "## Electroacoustic environments and devices as new luthiery<a name=\"liuteria\"></a>"
   ]
  },
  {
   "cell_type": "markdown",
   "id": "b90e823f",
   "metadata": {},
   "source": [
    "## Graphic scores and laptop ensembles <a name=\"graphic\"></a>"
   ]
  },
  {
   "cell_type": "markdown",
   "id": "788f8e55",
   "metadata": {},
   "source": [
    "## Composition sketches proposal <small>(SC)</small> <a name=\"esercizi_4\"></a>"
   ]
  }
 ],
 "metadata": {
  "kernelspec": {
   "display_name": "Python 3 (ipykernel)",
   "language": "python",
   "name": "python3"
  },
  "language_info": {
   "codemirror_mode": {
    "name": "ipython",
    "version": 3
   },
   "file_extension": ".py",
   "mimetype": "text/x-python",
   "name": "python",
   "nbconvert_exporter": "python",
   "pygments_lexer": "ipython3",
   "version": "3.12.4"
  }
 },
 "nbformat": 4,
 "nbformat_minor": 5
}
