{
 "cells": [
  {
   "cell_type": "markdown",
   "id": "8e8a8b13",
   "metadata": {},
   "source": [
    "[Index](../indice.ipynb) "
   ]
  },
  {
   "cell_type": "markdown",
   "id": "5cc91be7-65df-4fa0-9fc7-ff4e6c5d2538",
   "metadata": {},
   "source": [
    "## Augmented instrumental techniques <a name=\"aumentate\"></a>"
   ]
  },
  {
   "cell_type": "markdown",
   "id": "57bf95f8",
   "metadata": {},
   "source": [
    "## Augmented instrumental techniques <a name=\"Performance environment models\"></a>"
   ]
  },
  {
   "cell_type": "markdown",
   "id": "d212e693",
   "metadata": {},
   "source": [
    "### MIDI <a name=\"midi\"></a>"
   ]
  },
  {
   "cell_type": "markdown",
   "id": "9c434934",
   "metadata": {},
   "source": [
    "### OSC <a name=\"osc\"></a>"
   ]
  },
  {
   "cell_type": "markdown",
   "id": "20002f2c",
   "metadata": {},
   "source": [
    "### HID <a name=\"hid\"></a>"
   ]
  },
  {
   "cell_type": "markdown",
   "id": "a88a11a6",
   "metadata": {},
   "source": [
    "## Player(s), eyes and loudspeakers <a name=\"occhi\"></a>"
   ]
  },
  {
   "cell_type": "markdown",
   "id": "9ab7f5a8",
   "metadata": {},
   "source": [
    "## Augmented musical forms <a name=\"forme_aumentate\"></a>"
   ]
  },
  {
   "cell_type": "markdown",
   "id": "b90e823f",
   "metadata": {},
   "source": [
    "## Composition sketches proposal <small>(SC or Max or PD)</small> <a name=\"esercizi_4\"></a>"
   ]
  }
 ],
 "metadata": {
  "kernelspec": {
   "display_name": "Python 3 (ipykernel)",
   "language": "python",
   "name": "python3"
  },
  "language_info": {
   "codemirror_mode": {
    "name": "ipython",
    "version": 3
   },
   "file_extension": ".py",
   "mimetype": "text/x-python",
   "name": "python",
   "nbconvert_exporter": "python",
   "pygments_lexer": "ipython3",
   "version": "3.12.4"
  }
 },
 "nbformat": 4,
 "nbformat_minor": 5
}
